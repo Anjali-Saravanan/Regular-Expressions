{
  "nbformat": 4,
  "nbformat_minor": 0,
  "metadata": {
    "colab": {
      "name": "Regular Expressions.ipynb",
      "provenance": [],
      "collapsed_sections": [],
      "authorship_tag": "ABX9TyNNStYDcdsYvtuaolWNCo6W",
      "include_colab_link": true
    },
    "kernelspec": {
      "name": "python3",
      "display_name": "Python 3"
    },
    "language_info": {
      "name": "python"
    }
  },
  "cells": [
    {
      "cell_type": "markdown",
      "metadata": {
        "id": "view-in-github",
        "colab_type": "text"
      },
      "source": [
        "<a href=\"https://colab.research.google.com/github/Anjali-Saravanan/Regular-Expressions/blob/main/Regular_Expressions.ipynb\" target=\"_parent\"><img src=\"https://colab.research.google.com/assets/colab-badge.svg\" alt=\"Open In Colab\"/></a>"
      ]
    },
    {
      "cell_type": "code",
      "execution_count": null,
      "metadata": {
        "id": "toEqxSnz-5K4"
      },
      "outputs": [],
      "source": [
        "import re\n",
        "\n",
        "#Search the string to see if it starts with The and ends with Spain\n",
        "txt = \"The rain in Spain\"\n",
        "x = re.search(\"^The.*Spain$\", txt)\n",
        "print(x)"
      ]
    },
    {
      "cell_type": "code",
      "source": [
        "#Print a list of all matches\n",
        "txt = \"The rain in Spain\"\n",
        "x = re.findall(\"ai\", txt)\n",
        "print(x)"
      ],
      "metadata": {
        "id": "KGkWIxun_MJZ"
      },
      "execution_count": null,
      "outputs": []
    },
    {
      "cell_type": "code",
      "source": [
        "#Search for the first white-space character in the string\n",
        "txt = \"The rain in Spain\"\n",
        "x = re.search(\"\\s\", txt)\n",
        "print(\"The first white-space character is located in position:\", x.start())"
      ],
      "metadata": {
        "id": "QGYLXjno_Sxx"
      },
      "execution_count": null,
      "outputs": []
    },
    {
      "cell_type": "code",
      "source": [
        "#Split at each white-space character\n",
        "txt = \"The rain in Spain\"\n",
        "x = re.split(\"\\s\", txt)\n",
        "print(x)"
      ],
      "metadata": {
        "id": "iYkhJosm_cQx"
      },
      "execution_count": null,
      "outputs": []
    },
    {
      "cell_type": "code",
      "source": [
        "#Replace every white-space character with the number 8\n",
        "txt = \"The rain in Spain\"\n",
        "x = re.sub(\"\\s\", \"8\", txt)\n",
        "print(x)\n"
      ],
      "metadata": {
        "id": "R67rC2CZ_km4"
      },
      "execution_count": null,
      "outputs": []
    },
    {
      "cell_type": "code",
      "source": [
        "#match a pattern in a given string\n",
        "\n",
        "pattern = r\"hello\"\n",
        "\n",
        "if re.match(pattern,\"hellohellobye\"):\n",
        "  print(\"Match Found\")\n",
        "\n",
        "else:\n",
        "  print(\"No Match\")"
      ],
      "metadata": {
        "colab": {
          "base_uri": "https://localhost:8080/"
        },
        "id": "X0yICIRh_uHY",
        "outputId": "8110b566-ff85-4e69-e48b-406c30b5d464"
      },
      "execution_count": 8,
      "outputs": [
        {
          "output_type": "stream",
          "name": "stdout",
          "text": [
            "Match Found\n"
          ]
        }
      ]
    }
  ]
}